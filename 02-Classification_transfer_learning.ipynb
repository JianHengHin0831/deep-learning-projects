{
 "cells": [
  {
   "cell_type": "code",
   "execution_count": 2,
   "id": "ef868947",
   "metadata": {},
   "outputs": [],
   "source": [
    "import tensorflow as tf\n",
    "from tensorflow.keras.preprocessing.image import ImageDataGenerator\n",
    "from tensorflow.keras.applications import MobileNetV2, ResNet50\n",
    "from tensorflow.keras.models import Model\n",
    "from tensorflow.keras.layers import GlobalAveragePooling2D, Dense, Dropout\n",
    "from tensorflow.keras.optimizers import Adam"
   ]
  },
  {
   "cell_type": "code",
   "execution_count": null,
   "id": "3dbd6dcb",
   "metadata": {},
   "outputs": [
    {
     "name": "stdout",
     "output_type": "stream",
     "text": [
      "Found 20000 images belonging to 2 classes.\n",
      "Found 4998 images belonging to 2 classes.\n"
     ]
    }
   ],
   "source": [
    "# data augmentation\n",
    "datagen = ImageDataGenerator(\n",
    "    rescale=1./255,\n",
    "    rotation_range=20,\n",
    "    width_shift_range=0.2,\n",
    "    height_shift_range=0.2,\n",
    "    shear_range=0.2,\n",
    "    zoom_range=0.2,\n",
    "    horizontal_flip=True,\n",
    "    validation_split=0.2  \n",
    ")\n",
    "\n",
    "# training set\n",
    "train_generator = datagen.flow_from_directory(\n",
    "    \"02-PetImages\",                \n",
    "    target_size=(224,224),\n",
    "    batch_size=32,\n",
    "    class_mode=\"binary\",\n",
    "    subset=\"training\"      #\n",
    ")\n",
    "\n",
    "# validation set\n",
    "val_generator = datagen.flow_from_directory(\n",
    "    \"02-PetImages\",\n",
    "    target_size=(224,224),\n",
    "    batch_size=32,\n",
    "    class_mode=\"binary\",\n",
    "    subset=\"validation\"   \n",
    ")"
   ]
  },
  {
   "cell_type": "code",
   "execution_count": null,
   "id": "fac86269",
   "metadata": {},
   "outputs": [],
   "source": [
    "# 2.load pre-trained model \n",
    "base_model = MobileNetV2(weights=\"imagenet\", include_top=False, input_shape=(224,224,3))\n",
    "\n",
    "# freeze the base model\n",
    "base_model.trainable = False\n"
   ]
  },
  {
   "cell_type": "code",
   "execution_count": null,
   "id": "842d908a",
   "metadata": {},
   "outputs": [],
   "source": [
    "# 3. add custom classification head\n",
    "x = base_model.output\n",
    "x = GlobalAveragePooling2D()(x)\n",
    "x = Dropout(0.5)(x)  # add dropout for regularization\n",
    "predictions = Dense(1, activation=\"sigmoid\")(x)  # binary classification\n",
    "\n",
    "model = Model(inputs=base_model.input, outputs=predictions)"
   ]
  },
  {
   "cell_type": "code",
   "execution_count": null,
   "id": "33342f43",
   "metadata": {},
   "outputs": [],
   "source": [
    "# 4. compile the model\n",
    "model.compile(optimizer=Adam(learning_rate=0.0001),\n",
    "              loss=\"binary_crossentropy\",\n",
    "              metrics=[\"accuracy\"])"
   ]
  },
  {
   "cell_type": "code",
   "execution_count": 7,
   "id": "9aef6ba8",
   "metadata": {},
   "outputs": [
    {
     "name": "stdout",
     "output_type": "stream",
     "text": [
      "[PhysicalDevice(name='/physical_device:GPU:0', device_type='GPU')]\n"
     ]
    }
   ],
   "source": [
    "print(tf.config.list_physical_devices('GPU'))\n"
   ]
  },
  {
   "cell_type": "code",
   "execution_count": 8,
   "id": "fb60fb14",
   "metadata": {},
   "outputs": [
    {
     "name": "stdout",
     "output_type": "stream",
     "text": [
      "Epoch 1/5\n",
      " 50/625 [=>............................] - ETA: 31s - loss: 0.8334 - accuracy: 0.5131"
     ]
    },
    {
     "name": "stderr",
     "output_type": "stream",
     "text": [
      "c:\\Users\\User\\anaconda3\\envs\\tf-gpu\\lib\\site-packages\\PIL\\TiffImagePlugin.py:950: UserWarning: Truncated File Read\n",
      "  warnings.warn(str(msg))\n"
     ]
    },
    {
     "name": "stdout",
     "output_type": "stream",
     "text": [
      "625/625 [==============================] - 52s 76ms/step - loss: 0.3934 - accuracy: 0.8209 - val_loss: 0.1617 - val_accuracy: 0.9484\n",
      "Epoch 2/5\n",
      "625/625 [==============================] - 146s 232ms/step - loss: 0.1728 - accuracy: 0.9380 - val_loss: 0.1176 - val_accuracy: 0.9582\n",
      "Epoch 3/5\n",
      "625/625 [==============================] - 147s 234ms/step - loss: 0.1349 - accuracy: 0.9491 - val_loss: 0.0977 - val_accuracy: 0.9656\n",
      "Epoch 4/5\n",
      "625/625 [==============================] - 145s 230ms/step - loss: 0.1163 - accuracy: 0.9560 - val_loss: 0.0874 - val_accuracy: 0.9692\n",
      "Epoch 5/5\n",
      "625/625 [==============================] - 145s 230ms/step - loss: 0.1105 - accuracy: 0.9572 - val_loss: 0.0863 - val_accuracy: 0.9662\n"
     ]
    }
   ],
   "source": [
    "history = model.fit(\n",
    "    train_generator,\n",
    "    validation_data=val_generator,\n",
    "    epochs=5,\n",
    "    workers=8\n",
    ")"
   ]
  },
  {
   "cell_type": "code",
   "execution_count": 9,
   "id": "57735955",
   "metadata": {},
   "outputs": [
    {
     "name": "stdout",
     "output_type": "stream",
     "text": [
      "157/157 [==============================] - 101s 644ms/step - loss: 0.0845 - accuracy: 0.9698\n",
      "验证集准确率: 0.9697878956794739\n"
     ]
    }
   ],
   "source": [
    "loss, acc = model.evaluate(val_generator)\n",
    "print(\"验证集准确率:\", acc)"
   ]
  },
  {
   "cell_type": "code",
   "execution_count": null,
   "id": "f56c25df",
   "metadata": {},
   "outputs": [
    {
     "name": "stdout",
     "output_type": "stream",
     "text": [
      "Epoch 1/5\n",
      "625/625 [==============================] - 144s 216ms/step - loss: 0.1676 - accuracy: 0.9316 - val_loss: 0.0681 - val_accuracy: 0.9752\n",
      "Epoch 2/5\n",
      "625/625 [==============================] - 135s 214ms/step - loss: 0.1034 - accuracy: 0.9582 - val_loss: 0.0577 - val_accuracy: 0.9778\n",
      "Epoch 3/5\n",
      "625/625 [==============================] - 128s 202ms/step - loss: 0.0875 - accuracy: 0.9650 - val_loss: 0.0570 - val_accuracy: 0.9766\n",
      "Epoch 4/5\n",
      "625/625 [==============================] - 79s 125ms/step - loss: 0.0789 - accuracy: 0.9685 - val_loss: 0.0515 - val_accuracy: 0.9808\n",
      "Epoch 5/5\n",
      "625/625 [==============================] - 98s 157ms/step - loss: 0.0744 - accuracy: 0.9695 - val_loss: 0.0515 - val_accuracy: 0.9794\n",
      "157/157 [==============================] - 97s 615ms/step - loss: 0.0505 - accuracy: 0.9794\n",
      "验证集准确率: 0.9793917536735535\n"
     ]
    }
   ],
   "source": [
    "# 6. fine-tuning\n",
    "base_model.trainable = True\n",
    "for layer in base_model.layers[:-30]:  # unfreeze last 30 layers\n",
    "    layer.trainable = False\n",
    "\n",
    "model.compile(optimizer=Adam(learning_rate=0.00001),  # lower learning rate\n",
    "              loss=\"binary_crossentropy\",\n",
    "              metrics=[\"accuracy\"])\n",
    "\n",
    "# continue training\n",
    "history_finetune = model.fit(\n",
    "    train_generator,\n",
    "    validation_data=val_generator,\n",
    "    epochs=5,\n",
    "    workers=8\n",
    ")\n",
    "\n",
    "# 7. evaluate the model\n",
    "loss, acc = model.evaluate(val_generator)\n",
    "print(\"验证集准确率:\", acc)"
   ]
  },
  {
   "cell_type": "code",
   "execution_count": null,
   "id": "f39d6882",
   "metadata": {},
   "outputs": [],
   "source": []
  },
  {
   "cell_type": "code",
   "execution_count": null,
   "id": "8120bd19",
   "metadata": {},
   "outputs": [],
   "source": []
  }
 ],
 "metadata": {
  "kernelspec": {
   "display_name": "tf-gpu",
   "language": "python",
   "name": "python3"
  },
  "language_info": {
   "codemirror_mode": {
    "name": "ipython",
    "version": 3
   },
   "file_extension": ".py",
   "mimetype": "text/x-python",
   "name": "python",
   "nbconvert_exporter": "python",
   "pygments_lexer": "ipython3",
   "version": "3.9.23"
  }
 },
 "nbformat": 4,
 "nbformat_minor": 5
}
