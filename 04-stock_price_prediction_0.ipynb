{
 "cells": [
  {
   "cell_type": "code",
   "execution_count": 149,
   "id": "d04f0fc5",
   "metadata": {},
   "outputs": [],
   "source": [
    "import torch\n",
    "import torch.nn as nn\n",
    "import torch.optim as optim\n",
    "from torch.utils.data import Dataset, DataLoader\n",
    "import numpy as np\n",
    "import matplotlib.pyplot as plt\n",
    "import pandas as pd"
   ]
  },
  {
   "cell_type": "code",
   "execution_count": 150,
   "id": "640d9902",
   "metadata": {},
   "outputs": [
    {
     "data": {
      "text/html": [
       "<div>\n",
       "<style scoped>\n",
       "    .dataframe tbody tr th:only-of-type {\n",
       "        vertical-align: middle;\n",
       "    }\n",
       "\n",
       "    .dataframe tbody tr th {\n",
       "        vertical-align: top;\n",
       "    }\n",
       "\n",
       "    .dataframe thead th {\n",
       "        text-align: right;\n",
       "    }\n",
       "</style>\n",
       "<table border=\"1\" class=\"dataframe\">\n",
       "  <thead>\n",
       "    <tr style=\"text-align: right;\">\n",
       "      <th></th>\n",
       "      <th>Unnamed: 0</th>\n",
       "      <th>Stock_1</th>\n",
       "      <th>Stock_2</th>\n",
       "      <th>Stock_3</th>\n",
       "      <th>Stock_4</th>\n",
       "      <th>Stock_5</th>\n",
       "    </tr>\n",
       "  </thead>\n",
       "  <tbody>\n",
       "    <tr>\n",
       "      <th>0</th>\n",
       "      <td>2020-01-01</td>\n",
       "      <td>101.764052</td>\n",
       "      <td>100.160928</td>\n",
       "      <td>99.494642</td>\n",
       "      <td>99.909756</td>\n",
       "      <td>101.761266</td>\n",
       "    </tr>\n",
       "    <tr>\n",
       "      <th>1</th>\n",
       "      <td>2020-01-02</td>\n",
       "      <td>102.171269</td>\n",
       "      <td>99.969968</td>\n",
       "      <td>98.682973</td>\n",
       "      <td>100.640755</td>\n",
       "      <td>102.528643</td>\n",
       "    </tr>\n",
       "    <tr>\n",
       "      <th>2</th>\n",
       "      <td>2020-01-03</td>\n",
       "      <td>103.171258</td>\n",
       "      <td>99.575237</td>\n",
       "      <td>98.182139</td>\n",
       "      <td>100.574847</td>\n",
       "      <td>101.887811</td>\n",
       "    </tr>\n",
       "    <tr>\n",
       "      <th>3</th>\n",
       "      <td>2020-01-04</td>\n",
       "      <td>105.483215</td>\n",
       "      <td>99.308641</td>\n",
       "      <td>97.149381</td>\n",
       "      <td>100.925017</td>\n",
       "      <td>101.490049</td>\n",
       "    </tr>\n",
       "    <tr>\n",
       "      <th>4</th>\n",
       "      <td>2020-01-05</td>\n",
       "      <td>107.453175</td>\n",
       "      <td>98.188428</td>\n",
       "      <td>99.575396</td>\n",
       "      <td>101.594411</td>\n",
       "      <td>101.604283</td>\n",
       "    </tr>\n",
       "  </tbody>\n",
       "</table>\n",
       "</div>"
      ],
      "text/plain": [
       "   Unnamed: 0     Stock_1     Stock_2    Stock_3     Stock_4     Stock_5\n",
       "0  2020-01-01  101.764052  100.160928  99.494642   99.909756  101.761266\n",
       "1  2020-01-02  102.171269   99.969968  98.682973  100.640755  102.528643\n",
       "2  2020-01-03  103.171258   99.575237  98.182139  100.574847  101.887811\n",
       "3  2020-01-04  105.483215   99.308641  97.149381  100.925017  101.490049\n",
       "4  2020-01-05  107.453175   98.188428  99.575396  101.594411  101.604283"
      ]
     },
     "execution_count": 150,
     "metadata": {},
     "output_type": "execute_result"
    }
   ],
   "source": [
    "df = pd.read_csv('04-stock_price_prediction.csv')\n",
    "df.head()"
   ]
  },
  {
   "cell_type": "code",
   "execution_count": null,
   "id": "85d47aff",
   "metadata": {},
   "outputs": [],
   "source": [
    "# turn the first column into datetime type and set it as index\n",
    "df.rename(columns={df.columns[0]: 'Date'}, inplace=True)\n",
    "df['Date'] = pd.to_datetime(df['Date'],dayfirst=False)\n",
    "df.set_index('Date', inplace=True)"
   ]
  },
  {
   "cell_type": "code",
   "execution_count": 152,
   "id": "579d5316",
   "metadata": {},
   "outputs": [
    {
     "data": {
      "text/html": [
       "<div>\n",
       "<style scoped>\n",
       "    .dataframe tbody tr th:only-of-type {\n",
       "        vertical-align: middle;\n",
       "    }\n",
       "\n",
       "    .dataframe tbody tr th {\n",
       "        vertical-align: top;\n",
       "    }\n",
       "\n",
       "    .dataframe thead th {\n",
       "        text-align: right;\n",
       "    }\n",
       "</style>\n",
       "<table border=\"1\" class=\"dataframe\">\n",
       "  <thead>\n",
       "    <tr style=\"text-align: right;\">\n",
       "      <th></th>\n",
       "      <th>Stock_1</th>\n",
       "      <th>Stock_2</th>\n",
       "      <th>Stock_3</th>\n",
       "      <th>Stock_4</th>\n",
       "      <th>Stock_5</th>\n",
       "    </tr>\n",
       "    <tr>\n",
       "      <th>Date</th>\n",
       "      <th></th>\n",
       "      <th></th>\n",
       "      <th></th>\n",
       "      <th></th>\n",
       "      <th></th>\n",
       "    </tr>\n",
       "  </thead>\n",
       "  <tbody>\n",
       "    <tr>\n",
       "      <th>2020-01-01</th>\n",
       "      <td>101.764052</td>\n",
       "      <td>100.160928</td>\n",
       "      <td>99.494642</td>\n",
       "      <td>99.909756</td>\n",
       "      <td>101.761266</td>\n",
       "    </tr>\n",
       "    <tr>\n",
       "      <th>2020-01-02</th>\n",
       "      <td>102.171269</td>\n",
       "      <td>99.969968</td>\n",
       "      <td>98.682973</td>\n",
       "      <td>100.640755</td>\n",
       "      <td>102.528643</td>\n",
       "    </tr>\n",
       "    <tr>\n",
       "      <th>2020-01-03</th>\n",
       "      <td>103.171258</td>\n",
       "      <td>99.575237</td>\n",
       "      <td>98.182139</td>\n",
       "      <td>100.574847</td>\n",
       "      <td>101.887811</td>\n",
       "    </tr>\n",
       "    <tr>\n",
       "      <th>2020-01-04</th>\n",
       "      <td>105.483215</td>\n",
       "      <td>99.308641</td>\n",
       "      <td>97.149381</td>\n",
       "      <td>100.925017</td>\n",
       "      <td>101.490049</td>\n",
       "    </tr>\n",
       "    <tr>\n",
       "      <th>2020-01-05</th>\n",
       "      <td>107.453175</td>\n",
       "      <td>98.188428</td>\n",
       "      <td>99.575396</td>\n",
       "      <td>101.594411</td>\n",
       "      <td>101.604283</td>\n",
       "    </tr>\n",
       "  </tbody>\n",
       "</table>\n",
       "</div>"
      ],
      "text/plain": [
       "               Stock_1     Stock_2    Stock_3     Stock_4     Stock_5\n",
       "Date                                                                 \n",
       "2020-01-01  101.764052  100.160928  99.494642   99.909756  101.761266\n",
       "2020-01-02  102.171269   99.969968  98.682973  100.640755  102.528643\n",
       "2020-01-03  103.171258   99.575237  98.182139  100.574847  101.887811\n",
       "2020-01-04  105.483215   99.308641  97.149381  100.925017  101.490049\n",
       "2020-01-05  107.453175   98.188428  99.575396  101.594411  101.604283"
      ]
     },
     "execution_count": 152,
     "metadata": {},
     "output_type": "execute_result"
    }
   ],
   "source": [
    "df.head()"
   ]
  },
  {
   "cell_type": "code",
   "execution_count": null,
   "id": "95b295bb",
   "metadata": {},
   "outputs": [
    {
     "name": "stdout",
     "output_type": "stream",
     "text": [
      "[101.76405235 102.17126854 103.17125755 105.48321524 107.45317546\n",
      " 106.40305934 107.41398249 107.25140368 107.14070001 107.58061812]\n"
     ]
    }
   ],
   "source": [
    "# only keep the first stock's prices\n",
    "series= df['Stock_1'].values\n",
    "print(series[:10])"
   ]
  },
  {
   "cell_type": "code",
   "execution_count": 154,
   "id": "a081f90b",
   "metadata": {},
   "outputs": [],
   "source": [
    "class StockDataset(Dataset):\n",
    "    def __init__(self, data, seq_length=10):\n",
    "        self.data = data\n",
    "        self.seq_length = seq_length\n",
    "\n",
    "    def __len__(self):\n",
    "        return len(self.data) - self.seq_length\n",
    "\n",
    "    def __getitem__(self, idx):\n",
    "        x = self.data[idx:idx + self.seq_length]\n",
    "        y = self.data[idx + self.seq_length]\n",
    "        return torch.tensor(x, dtype=torch.float32), torch.tensor(y, dtype=torch.float32)"
   ]
  },
  {
   "cell_type": "code",
   "execution_count": null,
   "id": "01a6d3f1",
   "metadata": {},
   "outputs": [],
   "source": [
    "# this LSTM only has one direction\n",
    "# class StockLSTM(nn.Module):\n",
    "#     def __init__(self, input_size=1, hidden_size=256, num_layers=4, output_size=1,dropout_prob=0.2):\n",
    "#         super(StockLSTM, self).__init__()\n",
    "#         self.lstm = nn.LSTM(input_size, hidden_size, num_layers, batch_first=True,\n",
    "#                             dropout=dropout_prob if num_layers > 1 else 0)\n",
    "#         self.fc = nn.Linear(hidden_size, output_size)\n",
    "\n",
    "#     def forward(self, x):\n",
    "#         out, _ = self.lstm(x)  # (batch, seq_len, hidden_size)\n",
    "#         out = self.fc(out[:, -1, :])  # Use the last time step\n",
    "#         return out\n",
    "\n",
    "class StockBiLSTM(nn.Module):\n",
    "    def __init__(self, input_size=1, hidden_size=128, num_layers=3, output_size=1, dropout_prob=0.2):\n",
    "        super(StockBiLSTM, self).__init__()\n",
    "        self.lstm = nn.LSTM(input_size, hidden_size, num_layers, \n",
    "                              batch_first=True, \n",
    "                              dropout=dropout_prob if num_layers > 1 else 0,\n",
    "                              bidirectional=True) # open bidirectional\n",
    "        #because it is bidirectional, so hidden_size * 2\n",
    "        self.fc = nn.Linear(hidden_size * 2, output_size)\n",
    "\n",
    "    def forward(self, x):\n",
    "        out, _ = self.lstm(x)\n",
    "        out = self.fc(out[:, -1, :])\n",
    "        return out"
   ]
  },
  {
   "cell_type": "code",
   "execution_count": 156,
   "id": "8a01d873",
   "metadata": {},
   "outputs": [],
   "source": [
    "from sklearn.preprocessing import MinMaxScaler\n",
    "scaler = MinMaxScaler()\n",
    "series_scaled = scaler.fit_transform(series.reshape(-1, 1)).flatten()"
   ]
  },
  {
   "cell_type": "code",
   "execution_count": 157,
   "id": "4cdeaf69",
   "metadata": {},
   "outputs": [
    {
     "name": "stdout",
     "output_type": "stream",
     "text": [
      "Epoch [5/100], Loss: 0.1936\n",
      "Epoch [10/100], Loss: 0.1455\n",
      "Epoch [15/100], Loss: 0.0972\n",
      "Epoch [20/100], Loss: 0.0253\n",
      "Epoch [25/100], Loss: 0.0082\n",
      "Epoch [30/100], Loss: 0.0084\n",
      "Epoch [35/100], Loss: 0.0033\n",
      "Epoch [40/100], Loss: 0.0033\n",
      "Epoch [45/100], Loss: 0.0014\n",
      "Epoch [50/100], Loss: 0.0010\n",
      "Epoch [55/100], Loss: 0.0001\n",
      "Epoch [60/100], Loss: 0.0000\n",
      "Epoch [65/100], Loss: 0.0002\n",
      "Epoch [70/100], Loss: 0.0002\n",
      "Epoch [75/100], Loss: 0.0002\n",
      "Epoch [80/100], Loss: 0.0003\n",
      "Epoch [85/100], Loss: 0.0001\n",
      "Epoch [90/100], Loss: 0.0003\n",
      "Epoch [95/100], Loss: 0.0002\n",
      "Epoch [100/100], Loss: 0.0002\n"
     ]
    }
   ],
   "source": [
    "seq_length = 10\n",
    "dataset = StockDataset(series_scaled, seq_length)\n",
    "dataloader = DataLoader(dataset, batch_size=32, shuffle=False)\n",
    "\n",
    "model = StockBiLSTM()\n",
    "criterion = nn.MSELoss()\n",
    "optimizer = optim.Adam(model.parameters(), lr=0.0001)\n",
    "\n",
    "num_epochs = 100\n",
    "for epoch in range(num_epochs):\n",
    "    for x_batch, y_batch in dataloader:\n",
    "        optimizer.zero_grad()\n",
    "        outputs = model(x_batch.unsqueeze(-1))  # Add feature dimension\n",
    "        y_batch = y_batch.unsqueeze(1)\n",
    "        loss = criterion(outputs, y_batch)\n",
    "        loss.backward()\n",
    "        optimizer.step()\n",
    "    \n",
    "    if (epoch + 1) % 5 == 0:\n",
    "        print(f'Epoch [{epoch + 1}/{num_epochs}], Loss: {loss.item():.4f}')"
   ]
  },
  {
   "cell_type": "markdown",
   "id": "13b13c6f",
   "metadata": {},
   "source": []
  },
  {
   "cell_type": "code",
   "execution_count": 158,
   "id": "7dc28532",
   "metadata": {},
   "outputs": [
    {
     "data": {
      "text/plain": [
       "torch.Size([1, 10, 1])"
      ]
     },
     "execution_count": 158,
     "metadata": {},
     "output_type": "execute_result"
    }
   ],
   "source": [
    "model.eval()\n",
    "test_inputs = torch.tensor(series_scaled[-seq_length:], dtype=torch.float32).unsqueeze(0).unsqueeze(-1)  # (1, seq_length, 1)\n",
    "\n",
    "test_inputs.shape"
   ]
  },
  {
   "cell_type": "code",
   "execution_count": 159,
   "id": "02f796fc",
   "metadata": {},
   "outputs": [
    {
     "name": "stdout",
     "output_type": "stream",
     "text": [
      "Predicted: 0.07047277688980103\n",
      "Predicted: 0.07399064302444458\n",
      "Predicted: 0.077975794672966\n",
      "Predicted: 0.08182858675718307\n",
      "Predicted: 0.08553571999073029\n",
      "Predicted: 0.08877430856227875\n",
      "Predicted: 0.09161505103111267\n",
      "Predicted: 0.0943346843123436\n",
      "Predicted: 0.09666422009468079\n",
      "Predicted: 0.09887079149484634\n",
      "Predicted: 0.10107474029064178\n",
      "Predicted: 0.10332044214010239\n",
      "Predicted: 0.10545717179775238\n",
      "Predicted: 0.10748739540576935\n",
      "Predicted: 0.10942050069570541\n",
      "Predicted: 0.1112646535038948\n",
      "Predicted: 0.1130300909280777\n",
      "Predicted: 0.11472439765930176\n",
      "Predicted: 0.11635121703147888\n",
      "Predicted: 0.11791659146547318\n",
      "Predicted: 0.11942286789417267\n",
      "Predicted: 0.12087120115756989\n",
      "Predicted: 0.12226275354623795\n",
      "Predicted: 0.1236005499958992\n",
      "Predicted: 0.12488745152950287\n",
      "Predicted: 0.12612596154212952\n",
      "Predicted: 0.1273183673620224\n",
      "Predicted: 0.12846672534942627\n",
      "Predicted: 0.12957295775413513\n",
      "Predicted: 0.13063886761665344\n",
      "Predicted: 0.1316661536693573\n",
      "Predicted: 0.13265639543533325\n",
      "Predicted: 0.13361117243766785\n",
      "Predicted: 0.13453200459480286\n",
      "Predicted: 0.13542026281356812\n",
      "Predicted: 0.13627731800079346\n",
      "Predicted: 0.13710442185401917\n",
      "Predicted: 0.13790273666381836\n",
      "Predicted: 0.13867345452308655\n",
      "Predicted: 0.1394176483154297\n",
      "Predicted: 0.14013636112213135\n",
      "Predicted: 0.14083054661750793\n",
      "Predicted: 0.14150121808052063\n",
      "Predicted: 0.1421492099761963\n",
      "Predicted: 0.14277541637420654\n",
      "Predicted: 0.14338064193725586\n",
      "Predicted: 0.1439656913280487\n",
      "Predicted: 0.1445312798023224\n",
      "Predicted: 0.14507818222045898\n",
      "Predicted: 0.14560703933238983\n"
     ]
    }
   ],
   "source": [
    "preds = []\n",
    "for _ in range(50):  # Predict 50 steps ahead\n",
    "    with torch.no_grad():\n",
    "        pred = model(test_inputs)           \n",
    "        preds.append(pred.item())\n",
    "        print(f'Predicted: {pred.item()}')\n",
    "      \n",
    "        inputs_without_oldest = test_inputs[:, 1:, :]\n",
    "        new_timestep = pred.unsqueeze(-1) \n",
    "        test_inputs = torch.cat((inputs_without_oldest, new_timestep), dim=1)\n"
   ]
  },
  {
   "cell_type": "code",
   "execution_count": null,
   "id": "7b189bf7",
   "metadata": {},
   "outputs": [
    {
     "data": {
      "image/png": "[encoded data removed]",
      "text/plain": [
       "<Figure size 1000x500 with 1 Axes>"
      ]
     },
     "metadata": {},
     "output_type": "display_data"
    }
   ],
   "source": [
    "# inverse transform the predictions\n",
    "preds = scaler.inverse_transform(np.array(preds).reshape(-1, 1)).flatten()\n",
    "\n",
    "plt.figure(figsize=(10,5))\n",
    "plt.plot(df.index, series, label=\"True Data\")\n",
    "plt.plot(pd.date_range(df.index[-1], periods=50, freq=\"D\"), preds, label=\"Predictions\")\n",
    "plt.legend()\n",
    "plt.show()"
   ]
  },
  {
   "cell_type": "code",
   "execution_count": null,
   "id": "80545757",
   "metadata": {},
   "outputs": [],
   "source": []
  }
 ],
 "metadata": {
  "kernelspec": {
   "display_name": "tf-gpu",
   "language": "python",
   "name": "python3"
  },
  "language_info": {
   "codemirror_mode": {
    "name": "ipython",
    "version": 3
   },
   "file_extension": ".py",
   "mimetype": "text/x-python",
   "name": "python",
   "nbconvert_exporter": "python",
   "pygments_lexer": "ipython3",
   "version": "3.9.23"
  }
 },
 "nbformat": 4,
 "nbformat_minor": 5
}
