{
 "cells": [
  {
   "cell_type": "code",
   "execution_count": 14,
   "id": "6db47d24",
   "metadata": {},
   "outputs": [],
   "source": [
    "import tensorflow as tf\n",
    "from tensorflow.keras.datasets import imdb\n",
    "from tensorflow.keras.preprocessing.sequence import pad_sequences\n",
    "from tensorflow.keras.models import Sequential\n",
    "from tensorflow.keras.layers import Embedding, LSTM, Dense, Dropout"
   ]
  },
  {
   "cell_type": "code",
   "execution_count": null,
   "id": "1c69810d",
   "metadata": {},
   "outputs": [],
   "source": [
    "# only keep the top 10,000 most frequent words\n",
    "num_words = 10000\n",
    "maxlen = 200  # max length of each review"
   ]
  },
  {
   "cell_type": "code",
   "execution_count": 16,
   "id": "822e3472",
   "metadata": {},
   "outputs": [],
   "source": [
    "(x_train, y_train), (x_test, y_test) = imdb.load_data(num_words=num_words)"
   ]
  },
  {
   "cell_type": "code",
   "execution_count": 17,
   "id": "ed33eac1",
   "metadata": {},
   "outputs": [
    {
     "name": "stdout",
     "output_type": "stream",
     "text": [
      "训练集: (25000,) (25000,)\n",
      "测试集: (25000,) (25000,)\n"
     ]
    }
   ],
   "source": [
    "print(\"训练集:\", x_train.shape, y_train.shape)\n",
    "print(\"测试集:\", x_test.shape, y_test.shape)"
   ]
  },
  {
   "cell_type": "code",
   "execution_count": null,
   "id": "8bd9c377",
   "metadata": {},
   "outputs": [],
   "source": [
    "# padding sequences to the same length\n",
    "x_train = pad_sequences(x_train, maxlen=maxlen)\n",
    "x_test = pad_sequences(x_test, maxlen=maxlen)"
   ]
  },
  {
   "cell_type": "code",
   "execution_count": 19,
   "id": "edbd9fef",
   "metadata": {},
   "outputs": [
    {
     "name": "stdout",
     "output_type": "stream",
     "text": [
      "训练集: (25000, 200) (25000,)\n",
      "测试集: (25000, 200) (25000,)\n"
     ]
    }
   ],
   "source": [
    "print(\"训练集:\", x_train.shape, y_train.shape)\n",
    "print(\"测试集:\", x_test.shape, y_test.shape)"
   ]
  },
  {
   "cell_type": "code",
   "execution_count": 20,
   "id": "ca0eca91",
   "metadata": {},
   "outputs": [
    {
     "data": {
      "text/plain": [
       "1"
      ]
     },
     "execution_count": 20,
     "metadata": {},
     "output_type": "execute_result"
    }
   ],
   "source": [
    "y_train[0]"
   ]
  },
  {
   "cell_type": "code",
   "execution_count": 21,
   "id": "47c1032d",
   "metadata": {},
   "outputs": [],
   "source": [
    "embedding_dim = 128"
   ]
  },
  {
   "cell_type": "code",
   "execution_count": 22,
   "id": "71a40505",
   "metadata": {},
   "outputs": [
    {
     "name": "stdout",
     "output_type": "stream",
     "text": [
      "WARNING:tensorflow:Layer lstm will not use cuDNN kernels since it doesn't meet the criteria. It will use a generic GPU kernel as fallback when running on GPU.\n"
     ]
    }
   ],
   "source": [
    "model = Sequential([\n",
    "    Embedding(input_dim=num_words, output_dim=embedding_dim, input_length=maxlen),\n",
    "    LSTM(128, dropout=0.2, recurrent_dropout=0.2),\n",
    "    Dense(1, activation='sigmoid')\n",
    "])"
   ]
  },
  {
   "cell_type": "code",
   "execution_count": 23,
   "id": "76182025",
   "metadata": {},
   "outputs": [
    {
     "name": "stdout",
     "output_type": "stream",
     "text": [
      "Model: \"sequential\"\n",
      "_________________________________________________________________\n",
      " Layer (type)                Output Shape              Param #   \n",
      "=================================================================\n",
      " embedding (Embedding)       (None, 200, 128)          1280000   \n",
      "                                                                 \n",
      " lstm (LSTM)                 (None, 128)               131584    \n",
      "                                                                 \n",
      " dense (Dense)               (None, 1)                 129       \n",
      "                                                                 \n",
      "=================================================================\n",
      "Total params: 1,411,713\n",
      "Trainable params: 1,411,713\n",
      "Non-trainable params: 0\n",
      "_________________________________________________________________\n"
     ]
    }
   ],
   "source": [
    "model.compile(loss='binary_crossentropy',\n",
    "              optimizer='adam',\n",
    "              metrics=['accuracy'])\n",
    "\n",
    "model.summary()"
   ]
  },
  {
   "cell_type": "code",
   "execution_count": 27,
   "id": "c80677bf",
   "metadata": {},
   "outputs": [
    {
     "name": "stdout",
     "output_type": "stream",
     "text": [
      "Epoch 1/5\n",
      "313/313 [==============================] - 322s 1s/step - loss: 0.3291 - accuracy: 0.8663 - val_loss: 0.3202 - val_accuracy: 0.8646\n",
      "Epoch 2/5\n",
      "313/313 [==============================] - 293s 936ms/step - loss: 0.2300 - accuracy: 0.9101 - val_loss: 0.3540 - val_accuracy: 0.8752\n",
      "Epoch 3/5\n",
      "313/313 [==============================] - 292s 932ms/step - loss: 0.1919 - accuracy: 0.9277 - val_loss: 0.3831 - val_accuracy: 0.8368\n",
      "Epoch 4/5\n",
      "313/313 [==============================] - 289s 921ms/step - loss: 0.1357 - accuracy: 0.9506 - val_loss: 0.3902 - val_accuracy: 0.8688\n",
      "Epoch 5/5\n",
      "313/313 [==============================] - 295s 941ms/step - loss: 0.1122 - accuracy: 0.9613 - val_loss: 0.4748 - val_accuracy: 0.8584\n"
     ]
    }
   ],
   "source": [
    "history = model.fit(\n",
    "    x_train, y_train,\n",
    "    batch_size=64,\n",
    "    epochs=5,\n",
    "    validation_split=0.2,\n",
    "    workers=8\n",
    ")"
   ]
  },
  {
   "cell_type": "code",
   "execution_count": 28,
   "id": "080bd637",
   "metadata": {},
   "outputs": [
    {
     "name": "stdout",
     "output_type": "stream",
     "text": [
      "391/391 [==============================] - 33s 84ms/step - loss: 0.4895 - accuracy: 0.8540\n",
      "测试集 Loss: 0.4894622564315796\n",
      "测试集 Accuracy: 0.8539599776268005\n"
     ]
    }
   ],
   "source": [
    "score, acc = model.evaluate(x_test, y_test, batch_size=64)\n",
    "print(\"测试集 Loss:\", score)\n",
    "print(\"测试集 Accuracy:\", acc)"
   ]
  },
  {
   "cell_type": "code",
   "execution_count": null,
   "id": "1f45b826",
   "metadata": {},
   "outputs": [],
   "source": []
  }
 ],
 "metadata": {
  "kernelspec": {
   "display_name": "tf-gpu",
   "language": "python",
   "name": "python3"
  },
  "language_info": {
   "codemirror_mode": {
    "name": "ipython",
    "version": 3
   },
   "file_extension": ".py",
   "mimetype": "text/x-python",
   "name": "python",
   "nbconvert_exporter": "python",
   "pygments_lexer": "ipython3",
   "version": "3.9.23"
  }
 },
 "nbformat": 4,
 "nbformat_minor": 5
}
